{
 "cells": [
  {
   "cell_type": "markdown",
   "metadata": {},
   "source": [
    "## Download jar if not already present"
   ]
  },
  {
   "cell_type": "code",
   "execution_count": 1,
   "metadata": {},
   "outputs": [],
   "source": [
    "import sys\n",
    "import os\n",
    "\n",
    "current_dir = \"./\"\n",
    "\n",
    "sys.path.insert(0, os.path.join(current_dir, \"python\"))"
   ]
  },
  {
   "cell_type": "code",
   "execution_count": 2,
   "metadata": {},
   "outputs": [],
   "source": [
    "from download_iceberg_jar import get_jar_file_path_and_name, download_jar\n",
    "\n",
    "jar_dir, jar_file_name = get_jar_file_path_and_name()\n",
    "jar_full_path = os.path.join(jar_dir, jar_file_name)\n",
    "\n",
    "if os.path.isfile(jar_full_path):\n",
    "    print(\"JAR file already exists\")\n",
    "else:\n",
    "    download_jar(jar_dir, jar_file_name)\n"
   ]
  },
  {
   "cell_type": "code",
   "execution_count": 3,
   "metadata": {},
   "outputs": [
    {
     "name": "stdout",
     "output_type": "stream",
     "text": [
      "22/10/15 15:33:11 WARN NativeCodeLoader: Unable to load native-hadoop library for your platform... using builtin-java classes where applicable\n"
     ]
    },
    {
     "name": "stderr",
     "output_type": "stream",
     "text": [
      "Setting default log level to \"WARN\".\n",
      "To adjust logging level use sc.setLogLevel(newLevel). For SparkR, use setLogLevel(newLevel).\n"
     ]
    }
   ],
   "source": [
    "from pyspark import SparkConf\n",
    "from pyspark.sql import SparkSession\n",
    "import os\n",
    "from download_iceberg_jar import get_jar_file_path_and_name\n",
    "from warehouse import ensure_warehouse, get_warehouse_top_level_dir\n",
    "\n",
    "ensure_warehouse()\n",
    "\n",
    "jar_dir, jar_file_name = get_jar_file_path_and_name()\n",
    "\n",
    "conf = SparkConf()\n",
    "conf = conf.set(\"spark.deploy.mode\", \"client\")\n",
    "conf.set(\n",
    "    \"spark.jars\",\n",
    "    os.path.join(jar_dir, jar_file_name)\n",
    ")\n",
    "conf.set(\"spark.executor.memory\", \"2g\")\n",
    "conf.set(\"spark.driver.memory\", \"2g\")\n",
    "conf.set(\"spark.driver.maxResultSize\", \"1g\")\n",
    "conf.set(\n",
    "    \"spark.sql.extensions\",\n",
    "    \"org.apache.iceberg.spark.extensions.IcebergSparkSessionExtensions\",\n",
    ")\n",
    "conf.set(\"spark.sql.catalog.spark_catalog\", \"org.apache.iceberg.spark.SparkSessionCatalog\")\n",
    "conf.set(\"spark.sql.catalog.spark_catalog.type\", \"hive\")\n",
    "conf.set(\"spark.sql.catalog.iceberg\", \"org.apache.iceberg.spark.SparkCatalog\")\n",
    "conf.set(\"spark.sql.catalog.iceberg.type\", \"hive\")\n",
    "conf.set(\"spark.sql.catalog.iceberg.uri\", \"thrift://localhost:9083\")\n",
    "conf.set(\"spark.sql.catalog.iceberg.warehouse\", get_warehouse_top_level_dir())\n",
    "conf.set(\"spark.sql.execution.arrow.pyspark.enabled\", \"true\")\n",
    "session = (\n",
    "    SparkSession.builder.master(\"local[1]\").appName(\"iceberg-rs\").config(conf=conf).getOrCreate()\n",
    ")\n"
   ]
  },
  {
   "cell_type": "code",
   "execution_count": 4,
   "metadata": {},
   "outputs": [
    {
     "data": {
      "text/plain": [
       "DataFrame[]"
      ]
     },
     "execution_count": 4,
     "metadata": {},
     "output_type": "execute_result"
    }
   ],
   "source": [
    "session.sql(\"create database if not exists iceberg.db1\")"
   ]
  },
  {
   "cell_type": "code",
   "execution_count": 5,
   "metadata": {},
   "outputs": [
    {
     "data": {
      "text/html": [
       "<div>\n",
       "<style scoped>\n",
       "    .dataframe tbody tr th:only-of-type {\n",
       "        vertical-align: middle;\n",
       "    }\n",
       "\n",
       "    .dataframe tbody tr th {\n",
       "        vertical-align: top;\n",
       "    }\n",
       "\n",
       "    .dataframe thead th {\n",
       "        text-align: right;\n",
       "    }\n",
       "</style>\n",
       "<table border=\"1\" class=\"dataframe\">\n",
       "  <thead>\n",
       "    <tr style=\"text-align: right;\">\n",
       "      <th></th>\n",
       "    </tr>\n",
       "  </thead>\n",
       "  <tbody>\n",
       "  </tbody>\n",
       "</table>\n",
       "</div>"
      ],
      "text/plain": [
       "Empty DataFrame\n",
       "Columns: []\n",
       "Index: []"
      ]
     },
     "execution_count": 5,
     "metadata": {},
     "output_type": "execute_result"
    }
   ],
   "source": [
    "# Are interval types supported by Iceberg?\n",
    "# Array, Struct and Map types will be tested later\n",
    "sql = \"\"\"\n",
    "CREATE TABLE iceberg.db1.db1v1table1 (\n",
    "    byte0 BYTE COMMENT 'byte data type column, rev 0',\n",
    "    bool0 BOOLEAN COMMENT 'boolean data type column, rev 0',\n",
    "    short0 SHORT COMMENT 'short data type column, rev 0',\n",
    "    int0 INT COMMENT 'integer data type column, rev 0', \n",
    "    long0 LONG COMMENT 'long data type column, rev 0', \n",
    "    float0 FLOAT COMMENT 'float data type column, rev 0',\n",
    "    double0 DOUBLE COMMENT 'double data type column, rev 0',\n",
    "    date0 DATE COMMENT 'date data type column, rev 0',\n",
    "    timestamp0 TIMESTAMP COMMENT 'timestamp data type column, rev 0',\n",
    "    string0 STRING COMMENT 'string data type column, rev 0',\n",
    "    binary0 BINARY COMMENT 'binary data type column, rev 0',\n",
    "    decimal0 DECIMAL COMMENT 'decimal data type column, rev 0'\n",
    ") \n",
    "USING ICEBERG\n",
    "PARTITIONED BY (bucket(16, byte0), days(timestamp0), string0)\n",
    "TBLPROPERTIES ('format-version'='1')\n",
    "\"\"\"\n",
    "\n",
    "session.sql(sql).toPandas()"
   ]
  },
  {
   "cell_type": "code",
   "execution_count": 6,
   "metadata": {},
   "outputs": [
    {
     "data": {
      "text/html": [
       "<div>\n",
       "<style scoped>\n",
       "    .dataframe tbody tr th:only-of-type {\n",
       "        vertical-align: middle;\n",
       "    }\n",
       "\n",
       "    .dataframe tbody tr th {\n",
       "        vertical-align: top;\n",
       "    }\n",
       "\n",
       "    .dataframe thead th {\n",
       "        text-align: right;\n",
       "    }\n",
       "</style>\n",
       "<table border=\"1\" class=\"dataframe\">\n",
       "  <thead>\n",
       "    <tr style=\"text-align: right;\">\n",
       "      <th></th>\n",
       "    </tr>\n",
       "  </thead>\n",
       "  <tbody>\n",
       "  </tbody>\n",
       "</table>\n",
       "</div>"
      ],
      "text/plain": [
       "Empty DataFrame\n",
       "Columns: []\n",
       "Index: []"
      ]
     },
     "execution_count": 6,
     "metadata": {},
     "output_type": "execute_result"
    }
   ],
   "source": [
    "# Are interval types supported by Iceberg?\n",
    "# Array, Struct and Map types will be tested later\n",
    "sql = \"\"\"\n",
    "CREATE TABLE iceberg.db1.db1v2table1 (\n",
    "    byte0 BYTE COMMENT 'byte data type column, rev 0',\n",
    "    bool0 BOOLEAN COMMENT 'boolean data type column, rev 0',\n",
    "    short0 SHORT COMMENT 'short data type column, rev 0',\n",
    "    int0 INT COMMENT 'integer data type column, rev 0', \n",
    "    long0 LONG COMMENT 'long data type column, rev 0', \n",
    "    float0 FLOAT COMMENT 'float data type column, rev 0',\n",
    "    double0 DOUBLE COMMENT 'double data type column, rev 0',\n",
    "    date0 DATE COMMENT 'date data type column, rev 0',\n",
    "    timestamp0 TIMESTAMP COMMENT 'timestamp data type column, rev 0',\n",
    "    string0 STRING COMMENT 'string data type column, rev 0',\n",
    "    binary0 BINARY COMMENT 'binary data type column, rev 0',\n",
    "    decimal0 DECIMAL COMMENT 'decimal data type column, rev 0'\n",
    ") \n",
    "USING ICEBERG\n",
    "PARTITIONED BY (bucket(16, byte0), days(timestamp0), string0)\n",
    "TBLPROPERTIES ('format-version'='2')\n",
    "\"\"\"\n",
    "\n",
    "session.sql(sql).toPandas()"
   ]
  },
  {
   "cell_type": "code",
   "execution_count": 7,
   "metadata": {},
   "outputs": [],
   "source": [
    "from pyspark.sql import Row\n",
    "from datetime import datetime, date\n",
    "\n",
    "data = [\n",
    "    {\n",
    "        \"byte0\": 123, \"bool0\": True, \"short0\": 121, \"int0\": 65532, \"long0\": 989897989, \n",
    "        \"float0\": 1.23, \"double0\": 1.39323232, \"date0\": date.today(), \"timestamp0\": datetime.utcnow(),\n",
    "        \"string0\": \"this is a string\", \"binary0\": b\"this is a binary\", \"decimal0\": 11.33\n",
    "    },\n",
    "    {\n",
    "        \"byte0\": 223, \"bool0\": False, \"short0\": 121, \"int0\": 65532, \"long0\": 989897989, \n",
    "        \"float0\": 1.23, \"double0\": 1.39323232, \"date0\": date.today(), \"timestamp0\": datetime.utcnow(),\n",
    "        \"string0\": \"this is another string\", \"binary0\": b\"this is another binary\", \"decimal0\": 11.33\n",
    "    },\n",
    "]\n",
    "\n",
    "df = session.createDataFrame(Row(**x) for x in data)"
   ]
  },
  {
   "cell_type": "code",
   "execution_count": 8,
   "metadata": {},
   "outputs": [
    {
     "name": "stderr",
     "output_type": "stream",
     "text": [
      "                                                                                \r"
     ]
    }
   ],
   "source": [
    "df.writeTo(\"iceberg.db1.db1v1table1\").append()\n",
    "df.writeTo(\"iceberg.db1.db1v2table1\").append()"
   ]
  }
 ],
 "metadata": {
  "kernelspec": {
   "display_name": "Python 3 (ipykernel)",
   "language": "python",
   "name": "python3"
  },
  "language_info": {
   "codemirror_mode": {
    "name": "ipython",
    "version": 3
   },
   "file_extension": ".py",
   "mimetype": "text/x-python",
   "name": "python",
   "nbconvert_exporter": "python",
   "pygments_lexer": "ipython3",
   "version": "3.9.6"
  },
  "vscode": {
   "interpreter": {
    "hash": "a43d7f15a08182870a5009f3dc6d447f1a6571cd4acd279af62a68b26f8c99e1"
   }
  }
 },
 "nbformat": 4,
 "nbformat_minor": 2
}
